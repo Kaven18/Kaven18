{
  "nbformat": 4,
  "nbformat_minor": 0,
  "metadata": {
    "colab": {
      "name": "Untitled3.ipynb",
      "provenance": [],
      "collapsed_sections": [],
      "authorship_tag": "ABX9TyPLtcKPFwaoLZLkrk59F7s4",
      "include_colab_link": true
    },
    "kernelspec": {
      "name": "python3",
      "display_name": "Python 3"
    },
    "language_info": {
      "name": "python"
    }
  },
  "cells": [
    {
      "cell_type": "markdown",
      "metadata": {
        "id": "view-in-github",
        "colab_type": "text"
      },
      "source": [
        "<a href=\"https://colab.research.google.com/github/Kaven18/Kaven18/blob/master/Untitled3.ipynb\" target=\"_parent\"><img src=\"https://colab.research.google.com/assets/colab-badge.svg\" alt=\"Open In Colab\"/></a>"
      ]
    },
    {
      "cell_type": "code",
      "source": [
        "value1 = eval (input ('please enter first no'))\n",
        "value2 = eval (input('please enter second no'))\n",
        "sum = value1 + value2\n",
        "print(value1 ,'+', value2 ,'=', sum)\n"
      ],
      "metadata": {
        "colab": {
          "base_uri": "https://localhost:8080/"
        },
        "id": "TEOqz3Uw-hcn",
        "outputId": "dd8b44ab-e551-4373-b659-ab4cb5d40f2a"
      },
      "execution_count": null,
      "outputs": [
        {
          "output_type": "stream",
          "name": "stdout",
          "text": [
            "please enter first no10000\n",
            "please enter second no456265\n",
            "10000 + 456265 = 466265\n"
          ]
        }
      ]
    },
    {
      "cell_type": "code",
      "source": [
        "x=\"kaven\"\n",
        "y=10\n",
        "x*y"
      ],
      "metadata": {
        "colab": {
          "base_uri": "https://localhost:8080/",
          "height": 35
        },
        "id": "T9GngQZtAeDx",
        "outputId": "ae756131-c671-4adc-c015-232b1c14b0fe"
      },
      "execution_count": null,
      "outputs": [
        {
          "output_type": "execute_result",
          "data": {
            "text/plain": [
              "'kavenkavenkavenkavenkavenkavenkavenkavenkavenkaven'"
            ],
            "application/vnd.google.colaboratory.intrinsic+json": {
              "type": "string"
            }
          },
          "metadata": {},
          "execution_count": 10
        }
      ]
    },
    {
      "cell_type": "code",
      "source": [
        "x=\"10\"\n",
        "y=\"20\"\n",
        "x+y"
      ],
      "metadata": {
        "colab": {
          "base_uri": "https://localhost:8080/",
          "height": 35
        },
        "id": "apLh74fpBe1x",
        "outputId": "8f511fd8-29ff-4915-e642-cbc001af8a5c"
      },
      "execution_count": null,
      "outputs": [
        {
          "output_type": "execute_result",
          "data": {
            "text/plain": [
              "'1020'"
            ],
            "application/vnd.google.colaboratory.intrinsic+json": {
              "type": "string"
            }
          },
          "metadata": {},
          "execution_count": 13
        }
      ]
    },
    {
      "cell_type": "code",
      "source": [
        "x=10\n",
        "y=10\n",
        "x*y"
      ],
      "metadata": {
        "colab": {
          "base_uri": "https://localhost:8080/"
        },
        "id": "PX5KdrinB6aH",
        "outputId": "e0d6b478-fd43-4b10-f927-b0776cebe11a"
      },
      "execution_count": null,
      "outputs": [
        {
          "output_type": "execute_result",
          "data": {
            "text/plain": [
              "100"
            ]
          },
          "metadata": {},
          "execution_count": 14
        }
      ]
    },
    {
      "cell_type": "code",
      "source": [
        "x=10\n",
        "y=10\n",
        "x//y"
      ],
      "metadata": {
        "colab": {
          "base_uri": "https://localhost:8080/"
        },
        "id": "Fa8BFZuwCg8w",
        "outputId": "56cd879d-7bca-4a01-cd01-9f14c1634996"
      },
      "execution_count": null,
      "outputs": [
        {
          "output_type": "execute_result",
          "data": {
            "text/plain": [
              "1"
            ]
          },
          "metadata": {},
          "execution_count": 19
        }
      ]
    },
    {
      "cell_type": "code",
      "source": [
        "x=10\n",
        "y=10\n",
        "x%y\n"
      ],
      "metadata": {
        "colab": {
          "base_uri": "https://localhost:8080/"
        },
        "id": "aUdEf18jC8ZA",
        "outputId": "aa68ef9c-0598-493f-f074-e0054796ac61"
      },
      "execution_count": null,
      "outputs": [
        {
          "output_type": "execute_result",
          "data": {
            "text/plain": [
              "0"
            ]
          },
          "metadata": {},
          "execution_count": 23
        }
      ]
    },
    {
      "cell_type": "code",
      "source": [
        "x=10\n",
        "y=10\n",
        "x**y"
      ],
      "metadata": {
        "colab": {
          "base_uri": "https://localhost:8080/"
        },
        "id": "qXJJlzjKDLUA",
        "outputId": "534db443-2a27-49ee-9545-043ccd2037e9"
      },
      "execution_count": null,
      "outputs": [
        {
          "output_type": "execute_result",
          "data": {
            "text/plain": [
              "10000000000"
            ]
          },
          "metadata": {},
          "execution_count": 24
        }
      ]
    },
    {
      "cell_type": "code",
      "source": [
        "x=2\n",
        "x=x+2\n",
        "x\n"
      ],
      "metadata": {
        "colab": {
          "base_uri": "https://localhost:8080/"
        },
        "id": "X3hML4IwDRlg",
        "outputId": "680abc9b-f9ec-494d-9bd6-21eb6c669b0b"
      },
      "execution_count": null,
      "outputs": [
        {
          "output_type": "execute_result",
          "data": {
            "text/plain": [
              "4"
            ]
          },
          "metadata": {},
          "execution_count": 33
        }
      ]
    },
    {
      "cell_type": "code",
      "source": [
        "x*3\n",
        "\n"
      ],
      "metadata": {
        "colab": {
          "base_uri": "https://localhost:8080/"
        },
        "id": "kw2vWKijDhs7",
        "outputId": "528628fe-9002-4b44-a3e1-d967e8883165"
      },
      "execution_count": null,
      "outputs": [
        {
          "output_type": "execute_result",
          "data": {
            "text/plain": [
              "12"
            ]
          },
          "metadata": {},
          "execution_count": 35
        }
      ]
    },
    {
      "cell_type": "code",
      "source": [
        "x=20\n",
        "y=10\n",
        "print('x+y', x+y)\n",
        "print('x-y', x-y)\n",
        "print('x*y', x*y)\n",
        "print('x/y', x/y)\n",
        "print('x//y', x//y)\n",
        "print('x**y',x**y)"
      ],
      "metadata": {
        "colab": {
          "base_uri": "https://localhost:8080/"
        },
        "id": "VBrEVLIRERBY",
        "outputId": "7a20fc2f-038d-4fe6-f297-0154ea247e6a"
      },
      "execution_count": null,
      "outputs": [
        {
          "output_type": "stream",
          "name": "stdout",
          "text": [
            "x+y 30\n",
            "x-y 10\n",
            "x*y 200\n",
            "x/y 2.0\n",
            "x//y 2\n",
            "x**y 10240000000000\n"
          ]
        }
      ]
    },
    {
      "cell_type": "code",
      "source": [
        "from typing import AsyncIterable\n",
        "  \"print(Choice 1:Add, 2:Sub, 3:Div, 4: Mul, 5: quit\")\n",
        "  n1 = input(\"Enter the choice of operation\")\n",
        "  n = input(\"Enter the choice of operation :\")\n",
        "  if (n == 1):\n",
        "        print (\"you have chosen addition operation :\")\n",
        "        a1 = input (\"Enter the value for A :\")\n",
        "        b1 = input (\"enter the value for B :\")\n",
        "        a = int(a1)\n",
        "        b = int(b1)\n",
        "        c = a + b\n",
        "        print (\"The Result\",a,\"+\",b,\"=\",c)\n",
        "  elif (n == 2):\n",
        "        print (\"you have chosen subtraction operation :\")\n",
        "        a1 = input (\"Enter the value for A :\")\n",
        "        b1 = input (\"enter the value for B :\")\n",
        "        a = int(a1)\n",
        "        b = int(b1)\n",
        "        c = a - b\n",
        "        print (\"The Result\",a,\"-\",b,\"=\",c)\n",
        "  elif (n == 3):\n",
        "        print (\"you have chosen division operation :\")\n",
        "        a1 = input (\"Enter the value for A :\")\n",
        "        b1 = input (\"enter the value for B :\")\n",
        "        a = int(a1)\n",
        "        b = int(b1)\n",
        "        c = a / b\n",
        "        print (\"The Result\",a,\"/\",b,\"=\",c)\n",
        "  elif (n == 4):\n",
        "        print (\"you have chosen multiplication operation :\")\n",
        "        a1 = input (\"Enter the value for A :\")\n",
        "        b1 = input (\"enter the value for B :\")\n",
        "        a = int(a1)\n",
        "        b = int(b1)\n",
        "        c = a * b\n",
        "        print (\"The Result\",a,\"*\",b,\"=\",c)\n",
        "  elif (n == 1):\n",
        "        print (\"You have given a wrong :\",n)\n",
        "        exit()\n",
        "      \n",
        "    \n",
        "  "
      ],
      "metadata": {
        "id": "8ztKYIaYHBoR"
      },
      "execution_count": null,
      "outputs": []
    },
    {
      "cell_type": "markdown",
      "source": [
        ""
      ],
      "metadata": {
        "id": "yV9kRnAm-AYo"
      }
    },
    {
      "cell_type": "code",
      "source": [
        ""
      ],
      "metadata": {
        "id": "WFp1QEnQEQSo"
      },
      "execution_count": null,
      "outputs": []
    }
  ]
}

Python 3

num1 = input("Enter first number.") num2 = input("Enter second number.")

sum = float(num1)+float(num2)

print('The Sum of {0} and {1} is {2}'.format(num1,num2,sum))

num = 8 num_sqrt = num**0.5

print('The Square root of %0.3f is %0.3f'%(num,num_sqrt))

import cmath num = 1+2j num_sqrt = cmath.sqrt(num) print('The Square root of {0} is {1:0.3f}+{2:0.3f}j'.format(num , num_sqert.real,num_sqrt.imag))

a=5 b=6 c=7

s = (a+b+c)/2

area = (s*(s-a)(s-b)(s-c))**0.5 print('The area of the triangle is %0.2f'%area)

x = 5 y = 10

temp = x x = y y = temp

print('The value of x after swapping: {}'.format(x)) print('The value of y after swapping: {}'.format(y))

number = 10

number = 10 number = 1.1 website = "apple.com" print(website)

website = "apple.com" print(website)

website = "programiz.com"

print(website)

a, b, c = 5, 3.2, "Hello"

print (a) print (b) print (c) If we want to assign the same value to multiple variables at once, we can do this as: x = y = z = "same"

print (x) print (y) print (z)

PI = 3.14 GRAVITY = 9.8

import constant

print(constant.PI) print(constant.GRAVITY)

a = 0b1010 b = 100 c = 0o310 d = 0x12c

float_1 = 10.5 float_2 = 1.5e2

x = 3.14j

print(a, b, c, d) print(float_1, float_2) print(x, x.imag, x.real)

strings = "This is Python" char = "C" multiline_str = """This is a multiline string with more than one line code.""" unicode = u"\u00dcnic\u00f6de" raw_str = r"raw \n string"

print(strings) print(char) print(multiline_str) print(unicode) print(raw_str)

x = (1 == True) y = (1 == False) a = True + 4 b = False + 10

print("x is", x) print("y is", y) print("a:", a) print("b:", b)

drink = "Available" food = None

def menu(x): if x == drink: print(drink) else: print(food)

fruits = ["apple", "mango", "orange"] #list numbers = (1, 2, 3) #tuple alphabets = {'a':'apple', 'b':'ball', 'c':'cat'} #dictionary vowels = {'a', 'e', 'i' , 'o', 'u'} #set

print(fruits) print(numbers) print(alphabets) print(vowels)
